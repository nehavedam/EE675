{
 "cells": [
  {
   "cell_type": "code",
   "execution_count": null,
   "id": "60219bf4-f9ad-4513-bf6a-8825a59b4680",
   "metadata": {},
   "outputs": [],
   "source": [
    "import numpy as np\n",
    "from scipy.io import loadmat\n",
    "from sklearn.linear_model import LinearRegression\n",
    "from sklearn.metrics import mean_squared_error, mean_absolute_error, r2_score\n",
    "import matplotlib.pyplot as plt\n",
    "data = loadmat('prepared_data_50ms.mat')\n",
    "neural_data_tensor = data['neural_data_tensor']  \n",
    "kinematic_tensor = data['kinematic_tensor']      \n",
    "num_reaches, num_time_steps, num_neurons = neural_data_tensor.shape\n",
    "neural_data_flat = neural_data_tensor.reshape(-1, num_neurons) \n",
    "kinematics_flat = kinematic_tensor.reshape(-1, kinematic_tensor.shape[2]) \n",
    "non_zero_idx = np.any(neural_data_flat != 0, axis=1)\n",
    "neural_data_flat = neural_data_flat[non_zero_idx]\n",
    "kinematics_flat = kinematics_flat[non_zero_idx]\n",
    "model = LinearRegression()\n",
    "model.fit(neural_data_flat, kinematics_flat)\n",
    "\n",
    "kinematics_pred = model.predict(neural_data_flat)\n",
    "r2_scores = r2_score(kinematics_flat, kinematics_pred, multioutput='raw_values')\n",
    "mse_scores = mean_squared_error(kinematics_flat, kinematics_pred, multioutput='raw_values')\n",
    "mae_scores = mean_absolute_error(kinematics_flat, kinematics_pred, multioutput='raw_values')\n",
    "print(f\"R^2 Scores for each kinematic feature: {r2_scores}\")\n",
    "print(f\"Mean R^2 Score: {np.mean(r2_scores)}\")\n",
    "print(f\"MSE Scores for each kinematic feature: {mse_scores}\")\n",
    "print(f\"Mean MSE Score: {np.mean(mse_scores)}\")\n",
    "print(f\"MAE Scores for each kinematic feature: {mae_scores}\")\n",
    "print(f\"Mean MAE Score: {np.mean(mae_scores)}\")\n",
    "features = ['x position', 'y position', 'x velocity', 'y velocity']\n",
    "fig, axs = plt.subplots(2, 2, figsize=(12, 10))\n",
    "for i, ax in enumerate(axs.flat):\n",
    "    ax.plot(kinematics_flat[:, i], label=\"Actual\", color='blue')\n",
    "    ax.plot(kinematics_pred[:, i], label=\"Predicted\", linestyle='--', color='red')\n",
    "    ax.set_title(features[i])\n",
    "    ax.set_xlabel('Time Step')\n",
    "    ax.set_ylabel('Value')\n",
    "    ax.legend()\n",
    "\n",
    "plt.tight_layout()\n",
    "plt.show()\n"
   ]
  }
 ],
 "metadata": {
  "kernelspec": {
   "display_name": "Python 3 (ipykernel)",
   "language": "python",
   "name": "python3"
  },
  "language_info": {
   "codemirror_mode": {
    "name": "ipython",
    "version": 3
   },
   "file_extension": ".py",
   "mimetype": "text/x-python",
   "name": "python",
   "nbconvert_exporter": "python",
   "pygments_lexer": "ipython3",
   "version": "3.9.6"
  }
 },
 "nbformat": 4,
 "nbformat_minor": 5
}
